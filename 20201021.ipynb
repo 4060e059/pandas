{
  "nbformat": 4,
  "nbformat_minor": 0,
  "metadata": {
    "colab": {
      "name": "20201021.ipynb",
      "provenance": [],
      "collapsed_sections": [],
      "authorship_tag": "ABX9TyPPn2S/ws8Czkl/pI1CvS0N",
      "include_colab_link": true
    },
    "kernelspec": {
      "name": "python3",
      "display_name": "Python 3"
    }
  },
  "cells": [
    {
      "cell_type": "markdown",
      "metadata": {
        "id": "view-in-github",
        "colab_type": "text"
      },
      "source": [
        "<a href=\"https://colab.research.google.com/github/4060e059/pandas/blob/main/20201021.ipynb\" target=\"_parent\"><img src=\"https://colab.research.google.com/assets/colab-badge.svg\" alt=\"Open In Colab\"/></a>"
      ]
    },
    {
      "cell_type": "code",
      "metadata": {
        "id": "GWqIZAqyyZpO",
        "outputId": "fcb1735f-e7a1-4c84-8016-ec88ab9ea53f",
        "colab": {
          "base_uri": "https://localhost:8080/",
          "height": 136
        }
      },
      "source": [
        "import numpy as np\n",
        "import pandas as pd\n",
        "\n",
        "s = pd.Series([1, 3, 5, np.nan, 6, 8])\n",
        "s"
      ],
      "execution_count": 4,
      "outputs": [
        {
          "output_type": "execute_result",
          "data": {
            "text/plain": [
              "0    1.0\n",
              "1    3.0\n",
              "2    5.0\n",
              "3    NaN\n",
              "4    6.0\n",
              "5    8.0\n",
              "dtype: float64"
            ]
          },
          "metadata": {
            "tags": []
          },
          "execution_count": 4
        }
      ]
    },
    {
      "cell_type": "code",
      "metadata": {
        "id": "KxvjZ7Mi1Ufl",
        "outputId": "07a3eb48-581e-4175-f0db-17652fbacd13",
        "colab": {
          "base_uri": "https://localhost:8080/",
          "height": 68
        }
      },
      "source": [
        "dates = pd.date_range('20201021', periods=6)\n",
        "dates"
      ],
      "execution_count": 5,
      "outputs": [
        {
          "output_type": "execute_result",
          "data": {
            "text/plain": [
              "DatetimeIndex(['2020-10-21', '2020-10-22', '2020-10-23', '2020-10-24',\n",
              "               '2020-10-25', '2020-10-26'],\n",
              "              dtype='datetime64[ns]', freq='D')"
            ]
          },
          "metadata": {
            "tags": []
          },
          "execution_count": 5
        }
      ]
    },
    {
      "cell_type": "code",
      "metadata": {
        "id": "0gpjzGQ71kmM",
        "outputId": "8844e895-5acf-42fe-e42b-56fdfc5e149c",
        "colab": {
          "base_uri": "https://localhost:8080/",
          "height": 235
        }
      },
      "source": [
        "df = pd.DataFrame(np.random.randn(6, 4), index=dates, columns=list('ABCD'))\n",
        "df"
      ],
      "execution_count": 12,
      "outputs": [
        {
          "output_type": "execute_result",
          "data": {
            "text/html": [
              "<div>\n",
              "<style scoped>\n",
              "    .dataframe tbody tr th:only-of-type {\n",
              "        vertical-align: middle;\n",
              "    }\n",
              "\n",
              "    .dataframe tbody tr th {\n",
              "        vertical-align: top;\n",
              "    }\n",
              "\n",
              "    .dataframe thead th {\n",
              "        text-align: right;\n",
              "    }\n",
              "</style>\n",
              "<table border=\"1\" class=\"dataframe\">\n",
              "  <thead>\n",
              "    <tr style=\"text-align: right;\">\n",
              "      <th></th>\n",
              "      <th>A</th>\n",
              "      <th>B</th>\n",
              "      <th>C</th>\n",
              "      <th>D</th>\n",
              "    </tr>\n",
              "  </thead>\n",
              "  <tbody>\n",
              "    <tr>\n",
              "      <th>2020-10-21</th>\n",
              "      <td>1.419509</td>\n",
              "      <td>-0.437513</td>\n",
              "      <td>0.989625</td>\n",
              "      <td>1.091851</td>\n",
              "    </tr>\n",
              "    <tr>\n",
              "      <th>2020-10-22</th>\n",
              "      <td>-0.126498</td>\n",
              "      <td>0.100913</td>\n",
              "      <td>-0.633212</td>\n",
              "      <td>-1.361303</td>\n",
              "    </tr>\n",
              "    <tr>\n",
              "      <th>2020-10-23</th>\n",
              "      <td>0.866730</td>\n",
              "      <td>1.491651</td>\n",
              "      <td>1.004542</td>\n",
              "      <td>-0.341879</td>\n",
              "    </tr>\n",
              "    <tr>\n",
              "      <th>2020-10-24</th>\n",
              "      <td>-1.274104</td>\n",
              "      <td>-0.672812</td>\n",
              "      <td>-0.246130</td>\n",
              "      <td>-0.989541</td>\n",
              "    </tr>\n",
              "    <tr>\n",
              "      <th>2020-10-25</th>\n",
              "      <td>-0.264954</td>\n",
              "      <td>-1.705687</td>\n",
              "      <td>0.440875</td>\n",
              "      <td>-1.929949</td>\n",
              "    </tr>\n",
              "    <tr>\n",
              "      <th>2020-10-26</th>\n",
              "      <td>-0.205629</td>\n",
              "      <td>-1.181676</td>\n",
              "      <td>0.171552</td>\n",
              "      <td>0.242268</td>\n",
              "    </tr>\n",
              "  </tbody>\n",
              "</table>\n",
              "</div>"
            ],
            "text/plain": [
              "                   A         B         C         D\n",
              "2020-10-21  1.419509 -0.437513  0.989625  1.091851\n",
              "2020-10-22 -0.126498  0.100913 -0.633212 -1.361303\n",
              "2020-10-23  0.866730  1.491651  1.004542 -0.341879\n",
              "2020-10-24 -1.274104 -0.672812 -0.246130 -0.989541\n",
              "2020-10-25 -0.264954 -1.705687  0.440875 -1.929949\n",
              "2020-10-26 -0.205629 -1.181676  0.171552  0.242268"
            ]
          },
          "metadata": {
            "tags": []
          },
          "execution_count": 12
        }
      ]
    },
    {
      "cell_type": "code",
      "metadata": {
        "id": "4eDYo-qf2SMf",
        "outputId": "ed56c5fa-8ac3-4655-ab2f-3730e53211cf",
        "colab": {
          "base_uri": "https://localhost:8080/",
          "height": 173
        }
      },
      "source": [
        "df2 = pd.DataFrame({'A': 1.,\n",
        "           'B': pd.Timestamp('20201021'),\n",
        "           'C': pd.Series(1, index=list(range(4)), dtype='float32'),\n",
        "           'D': np.array([3] * 4, dtype='int32'),\n",
        "           'E': pd.Categorical([\"test\", \"train\", \"test\", \"train\"]),\n",
        "           'F': 'foo'})\n",
        "df2"
      ],
      "execution_count": 16,
      "outputs": [
        {
          "output_type": "execute_result",
          "data": {
            "text/html": [
              "<div>\n",
              "<style scoped>\n",
              "    .dataframe tbody tr th:only-of-type {\n",
              "        vertical-align: middle;\n",
              "    }\n",
              "\n",
              "    .dataframe tbody tr th {\n",
              "        vertical-align: top;\n",
              "    }\n",
              "\n",
              "    .dataframe thead th {\n",
              "        text-align: right;\n",
              "    }\n",
              "</style>\n",
              "<table border=\"1\" class=\"dataframe\">\n",
              "  <thead>\n",
              "    <tr style=\"text-align: right;\">\n",
              "      <th></th>\n",
              "      <th>A</th>\n",
              "      <th>B</th>\n",
              "      <th>C</th>\n",
              "      <th>D</th>\n",
              "      <th>E</th>\n",
              "      <th>F</th>\n",
              "    </tr>\n",
              "  </thead>\n",
              "  <tbody>\n",
              "    <tr>\n",
              "      <th>0</th>\n",
              "      <td>1.0</td>\n",
              "      <td>2020-10-21</td>\n",
              "      <td>1.0</td>\n",
              "      <td>3</td>\n",
              "      <td>test</td>\n",
              "      <td>foo</td>\n",
              "    </tr>\n",
              "    <tr>\n",
              "      <th>1</th>\n",
              "      <td>1.0</td>\n",
              "      <td>2020-10-21</td>\n",
              "      <td>1.0</td>\n",
              "      <td>3</td>\n",
              "      <td>train</td>\n",
              "      <td>foo</td>\n",
              "    </tr>\n",
              "    <tr>\n",
              "      <th>2</th>\n",
              "      <td>1.0</td>\n",
              "      <td>2020-10-21</td>\n",
              "      <td>1.0</td>\n",
              "      <td>3</td>\n",
              "      <td>test</td>\n",
              "      <td>foo</td>\n",
              "    </tr>\n",
              "    <tr>\n",
              "      <th>3</th>\n",
              "      <td>1.0</td>\n",
              "      <td>2020-10-21</td>\n",
              "      <td>1.0</td>\n",
              "      <td>3</td>\n",
              "      <td>train</td>\n",
              "      <td>foo</td>\n",
              "    </tr>\n",
              "  </tbody>\n",
              "</table>\n",
              "</div>"
            ],
            "text/plain": [
              "     A          B    C  D      E    F\n",
              "0  1.0 2020-10-21  1.0  3   test  foo\n",
              "1  1.0 2020-10-21  1.0  3  train  foo\n",
              "2  1.0 2020-10-21  1.0  3   test  foo\n",
              "3  1.0 2020-10-21  1.0  3  train  foo"
            ]
          },
          "metadata": {
            "tags": []
          },
          "execution_count": 16
        }
      ]
    },
    {
      "cell_type": "code",
      "metadata": {
        "id": "yO_6UcNG4PkK",
        "outputId": "7bba08e3-5ad8-41f7-e0ae-d21d3a010835",
        "colab": {
          "base_uri": "https://localhost:8080/",
          "height": 136
        }
      },
      "source": [
        "df2.dtypes"
      ],
      "execution_count": 21,
      "outputs": [
        {
          "output_type": "execute_result",
          "data": {
            "text/plain": [
              "A           float64\n",
              "B    datetime64[ns]\n",
              "C           float32\n",
              "D             int32\n",
              "E          category\n",
              "F            object\n",
              "dtype: object"
            ]
          },
          "metadata": {
            "tags": []
          },
          "execution_count": 21
        }
      ]
    },
    {
      "cell_type": "code",
      "metadata": {
        "id": "onfNZ9kO31EL",
        "outputId": "fec4c354-9311-4a39-8e95-84043a6d64a5",
        "colab": {
          "base_uri": "https://localhost:8080/",
          "height": 204
        }
      },
      "source": [
        "df.head()#頭部"
      ],
      "execution_count": 27,
      "outputs": [
        {
          "output_type": "execute_result",
          "data": {
            "text/html": [
              "<div>\n",
              "<style scoped>\n",
              "    .dataframe tbody tr th:only-of-type {\n",
              "        vertical-align: middle;\n",
              "    }\n",
              "\n",
              "    .dataframe tbody tr th {\n",
              "        vertical-align: top;\n",
              "    }\n",
              "\n",
              "    .dataframe thead th {\n",
              "        text-align: right;\n",
              "    }\n",
              "</style>\n",
              "<table border=\"1\" class=\"dataframe\">\n",
              "  <thead>\n",
              "    <tr style=\"text-align: right;\">\n",
              "      <th></th>\n",
              "      <th>A</th>\n",
              "      <th>B</th>\n",
              "      <th>C</th>\n",
              "      <th>D</th>\n",
              "    </tr>\n",
              "  </thead>\n",
              "  <tbody>\n",
              "    <tr>\n",
              "      <th>2020-10-21</th>\n",
              "      <td>1.419509</td>\n",
              "      <td>-0.437513</td>\n",
              "      <td>0.989625</td>\n",
              "      <td>1.091851</td>\n",
              "    </tr>\n",
              "    <tr>\n",
              "      <th>2020-10-22</th>\n",
              "      <td>-0.126498</td>\n",
              "      <td>0.100913</td>\n",
              "      <td>-0.633212</td>\n",
              "      <td>-1.361303</td>\n",
              "    </tr>\n",
              "    <tr>\n",
              "      <th>2020-10-23</th>\n",
              "      <td>0.866730</td>\n",
              "      <td>1.491651</td>\n",
              "      <td>1.004542</td>\n",
              "      <td>-0.341879</td>\n",
              "    </tr>\n",
              "    <tr>\n",
              "      <th>2020-10-24</th>\n",
              "      <td>-1.274104</td>\n",
              "      <td>-0.672812</td>\n",
              "      <td>-0.246130</td>\n",
              "      <td>-0.989541</td>\n",
              "    </tr>\n",
              "    <tr>\n",
              "      <th>2020-10-25</th>\n",
              "      <td>-0.264954</td>\n",
              "      <td>-1.705687</td>\n",
              "      <td>0.440875</td>\n",
              "      <td>-1.929949</td>\n",
              "    </tr>\n",
              "  </tbody>\n",
              "</table>\n",
              "</div>"
            ],
            "text/plain": [
              "                   A         B         C         D\n",
              "2020-10-21  1.419509 -0.437513  0.989625  1.091851\n",
              "2020-10-22 -0.126498  0.100913 -0.633212 -1.361303\n",
              "2020-10-23  0.866730  1.491651  1.004542 -0.341879\n",
              "2020-10-24 -1.274104 -0.672812 -0.246130 -0.989541\n",
              "2020-10-25 -0.264954 -1.705687  0.440875 -1.929949"
            ]
          },
          "metadata": {
            "tags": []
          },
          "execution_count": 27
        }
      ]
    },
    {
      "cell_type": "code",
      "metadata": {
        "id": "Pl-dnk1g73S7",
        "outputId": "763ba251-781a-4bdc-e726-a16e84ba505f",
        "colab": {
          "base_uri": "https://localhost:8080/",
          "height": 142
        }
      },
      "source": [
        "df.tail(3)#尾部"
      ],
      "execution_count": 28,
      "outputs": [
        {
          "output_type": "execute_result",
          "data": {
            "text/html": [
              "<div>\n",
              "<style scoped>\n",
              "    .dataframe tbody tr th:only-of-type {\n",
              "        vertical-align: middle;\n",
              "    }\n",
              "\n",
              "    .dataframe tbody tr th {\n",
              "        vertical-align: top;\n",
              "    }\n",
              "\n",
              "    .dataframe thead th {\n",
              "        text-align: right;\n",
              "    }\n",
              "</style>\n",
              "<table border=\"1\" class=\"dataframe\">\n",
              "  <thead>\n",
              "    <tr style=\"text-align: right;\">\n",
              "      <th></th>\n",
              "      <th>A</th>\n",
              "      <th>B</th>\n",
              "      <th>C</th>\n",
              "      <th>D</th>\n",
              "    </tr>\n",
              "  </thead>\n",
              "  <tbody>\n",
              "    <tr>\n",
              "      <th>2020-10-24</th>\n",
              "      <td>-1.274104</td>\n",
              "      <td>-0.672812</td>\n",
              "      <td>-0.246130</td>\n",
              "      <td>-0.989541</td>\n",
              "    </tr>\n",
              "    <tr>\n",
              "      <th>2020-10-25</th>\n",
              "      <td>-0.264954</td>\n",
              "      <td>-1.705687</td>\n",
              "      <td>0.440875</td>\n",
              "      <td>-1.929949</td>\n",
              "    </tr>\n",
              "    <tr>\n",
              "      <th>2020-10-26</th>\n",
              "      <td>-0.205629</td>\n",
              "      <td>-1.181676</td>\n",
              "      <td>0.171552</td>\n",
              "      <td>0.242268</td>\n",
              "    </tr>\n",
              "  </tbody>\n",
              "</table>\n",
              "</div>"
            ],
            "text/plain": [
              "                   A         B         C         D\n",
              "2020-10-24 -1.274104 -0.672812 -0.246130 -0.989541\n",
              "2020-10-25 -0.264954 -1.705687  0.440875 -1.929949\n",
              "2020-10-26 -0.205629 -1.181676  0.171552  0.242268"
            ]
          },
          "metadata": {
            "tags": []
          },
          "execution_count": 28
        }
      ]
    },
    {
      "cell_type": "code",
      "metadata": {
        "id": "AG8wEjt579E7",
        "outputId": "496ece3f-a44d-4f9a-9473-d2a31b5a432a",
        "colab": {
          "base_uri": "https://localhost:8080/",
          "height": 68
        }
      },
      "source": [
        "df.index"
      ],
      "execution_count": 29,
      "outputs": [
        {
          "output_type": "execute_result",
          "data": {
            "text/plain": [
              "DatetimeIndex(['2020-10-21', '2020-10-22', '2020-10-23', '2020-10-24',\n",
              "               '2020-10-25', '2020-10-26'],\n",
              "              dtype='datetime64[ns]', freq='D')"
            ]
          },
          "metadata": {
            "tags": []
          },
          "execution_count": 29
        }
      ]
    },
    {
      "cell_type": "code",
      "metadata": {
        "id": "otyHdg2_8F97",
        "outputId": "9beb9986-d564-4624-d027-50fa5f098ccb",
        "colab": {
          "base_uri": "https://localhost:8080/",
          "height": 34
        }
      },
      "source": [
        "df.columns"
      ],
      "execution_count": 30,
      "outputs": [
        {
          "output_type": "execute_result",
          "data": {
            "text/plain": [
              "Index(['A', 'B', 'C', 'D'], dtype='object')"
            ]
          },
          "metadata": {
            "tags": []
          },
          "execution_count": 30
        }
      ]
    },
    {
      "cell_type": "code",
      "metadata": {
        "id": "zcMFVTFe8IVS",
        "outputId": "08a3021f-1280-4d02-8401-2b3c74c4a868",
        "colab": {
          "base_uri": "https://localhost:8080/",
          "height": 119
        }
      },
      "source": [
        "df.to_numpy()"
      ],
      "execution_count": 31,
      "outputs": [
        {
          "output_type": "execute_result",
          "data": {
            "text/plain": [
              "array([[ 1.41950906, -0.43751257,  0.98962495,  1.0918513 ],\n",
              "       [-0.12649812,  0.10091272, -0.63321183, -1.36130302],\n",
              "       [ 0.86673031,  1.49165098,  1.00454174, -0.34187918],\n",
              "       [-1.27410384, -0.67281189, -0.24612958, -0.98954113],\n",
              "       [-0.26495429, -1.70568722,  0.44087452, -1.92994926],\n",
              "       [-0.20562941, -1.18167618,  0.17155211,  0.24226766]])"
            ]
          },
          "metadata": {
            "tags": []
          },
          "execution_count": 31
        }
      ]
    },
    {
      "cell_type": "code",
      "metadata": {
        "id": "hno9Q8Wm8L7x",
        "outputId": "997329cf-7f87-48e7-b460-0013d83fb1fc",
        "colab": {
          "base_uri": "https://localhost:8080/",
          "height": 297
        }
      },
      "source": [
        "df.describe()"
      ],
      "execution_count": 32,
      "outputs": [
        {
          "output_type": "execute_result",
          "data": {
            "text/html": [
              "<div>\n",
              "<style scoped>\n",
              "    .dataframe tbody tr th:only-of-type {\n",
              "        vertical-align: middle;\n",
              "    }\n",
              "\n",
              "    .dataframe tbody tr th {\n",
              "        vertical-align: top;\n",
              "    }\n",
              "\n",
              "    .dataframe thead th {\n",
              "        text-align: right;\n",
              "    }\n",
              "</style>\n",
              "<table border=\"1\" class=\"dataframe\">\n",
              "  <thead>\n",
              "    <tr style=\"text-align: right;\">\n",
              "      <th></th>\n",
              "      <th>A</th>\n",
              "      <th>B</th>\n",
              "      <th>C</th>\n",
              "      <th>D</th>\n",
              "    </tr>\n",
              "  </thead>\n",
              "  <tbody>\n",
              "    <tr>\n",
              "      <th>count</th>\n",
              "      <td>6.000000</td>\n",
              "      <td>6.000000</td>\n",
              "      <td>6.000000</td>\n",
              "      <td>6.000000</td>\n",
              "    </tr>\n",
              "    <tr>\n",
              "      <th>mean</th>\n",
              "      <td>0.069176</td>\n",
              "      <td>-0.400854</td>\n",
              "      <td>0.287875</td>\n",
              "      <td>-0.548092</td>\n",
              "    </tr>\n",
              "    <tr>\n",
              "      <th>std</th>\n",
              "      <td>0.947559</td>\n",
              "      <td>1.115430</td>\n",
              "      <td>0.659783</td>\n",
              "      <td>1.106555</td>\n",
              "    </tr>\n",
              "    <tr>\n",
              "      <th>min</th>\n",
              "      <td>-1.274104</td>\n",
              "      <td>-1.705687</td>\n",
              "      <td>-0.633212</td>\n",
              "      <td>-1.929949</td>\n",
              "    </tr>\n",
              "    <tr>\n",
              "      <th>25%</th>\n",
              "      <td>-0.250123</td>\n",
              "      <td>-1.054460</td>\n",
              "      <td>-0.141709</td>\n",
              "      <td>-1.268363</td>\n",
              "    </tr>\n",
              "    <tr>\n",
              "      <th>50%</th>\n",
              "      <td>-0.166064</td>\n",
              "      <td>-0.555162</td>\n",
              "      <td>0.306213</td>\n",
              "      <td>-0.665710</td>\n",
              "    </tr>\n",
              "    <tr>\n",
              "      <th>75%</th>\n",
              "      <td>0.618423</td>\n",
              "      <td>-0.033694</td>\n",
              "      <td>0.852437</td>\n",
              "      <td>0.096231</td>\n",
              "    </tr>\n",
              "    <tr>\n",
              "      <th>max</th>\n",
              "      <td>1.419509</td>\n",
              "      <td>1.491651</td>\n",
              "      <td>1.004542</td>\n",
              "      <td>1.091851</td>\n",
              "    </tr>\n",
              "  </tbody>\n",
              "</table>\n",
              "</div>"
            ],
            "text/plain": [
              "              A         B         C         D\n",
              "count  6.000000  6.000000  6.000000  6.000000\n",
              "mean   0.069176 -0.400854  0.287875 -0.548092\n",
              "std    0.947559  1.115430  0.659783  1.106555\n",
              "min   -1.274104 -1.705687 -0.633212 -1.929949\n",
              "25%   -0.250123 -1.054460 -0.141709 -1.268363\n",
              "50%   -0.166064 -0.555162  0.306213 -0.665710\n",
              "75%    0.618423 -0.033694  0.852437  0.096231\n",
              "max    1.419509  1.491651  1.004542  1.091851"
            ]
          },
          "metadata": {
            "tags": []
          },
          "execution_count": 32
        }
      ]
    },
    {
      "cell_type": "code",
      "metadata": {
        "id": "AmcT-MTy80zx",
        "outputId": "2521c697-d377-4339-bc3b-89ecd2011829",
        "colab": {
          "base_uri": "https://localhost:8080/",
          "height": 173
        }
      },
      "source": [
        "df.T"
      ],
      "execution_count": 33,
      "outputs": [
        {
          "output_type": "execute_result",
          "data": {
            "text/html": [
              "<div>\n",
              "<style scoped>\n",
              "    .dataframe tbody tr th:only-of-type {\n",
              "        vertical-align: middle;\n",
              "    }\n",
              "\n",
              "    .dataframe tbody tr th {\n",
              "        vertical-align: top;\n",
              "    }\n",
              "\n",
              "    .dataframe thead th {\n",
              "        text-align: right;\n",
              "    }\n",
              "</style>\n",
              "<table border=\"1\" class=\"dataframe\">\n",
              "  <thead>\n",
              "    <tr style=\"text-align: right;\">\n",
              "      <th></th>\n",
              "      <th>2020-10-21</th>\n",
              "      <th>2020-10-22</th>\n",
              "      <th>2020-10-23</th>\n",
              "      <th>2020-10-24</th>\n",
              "      <th>2020-10-25</th>\n",
              "      <th>2020-10-26</th>\n",
              "    </tr>\n",
              "  </thead>\n",
              "  <tbody>\n",
              "    <tr>\n",
              "      <th>A</th>\n",
              "      <td>1.419509</td>\n",
              "      <td>-0.126498</td>\n",
              "      <td>0.866730</td>\n",
              "      <td>-1.274104</td>\n",
              "      <td>-0.264954</td>\n",
              "      <td>-0.205629</td>\n",
              "    </tr>\n",
              "    <tr>\n",
              "      <th>B</th>\n",
              "      <td>-0.437513</td>\n",
              "      <td>0.100913</td>\n",
              "      <td>1.491651</td>\n",
              "      <td>-0.672812</td>\n",
              "      <td>-1.705687</td>\n",
              "      <td>-1.181676</td>\n",
              "    </tr>\n",
              "    <tr>\n",
              "      <th>C</th>\n",
              "      <td>0.989625</td>\n",
              "      <td>-0.633212</td>\n",
              "      <td>1.004542</td>\n",
              "      <td>-0.246130</td>\n",
              "      <td>0.440875</td>\n",
              "      <td>0.171552</td>\n",
              "    </tr>\n",
              "    <tr>\n",
              "      <th>D</th>\n",
              "      <td>1.091851</td>\n",
              "      <td>-1.361303</td>\n",
              "      <td>-0.341879</td>\n",
              "      <td>-0.989541</td>\n",
              "      <td>-1.929949</td>\n",
              "      <td>0.242268</td>\n",
              "    </tr>\n",
              "  </tbody>\n",
              "</table>\n",
              "</div>"
            ],
            "text/plain": [
              "   2020-10-21  2020-10-22  2020-10-23  2020-10-24  2020-10-25  2020-10-26\n",
              "A    1.419509   -0.126498    0.866730   -1.274104   -0.264954   -0.205629\n",
              "B   -0.437513    0.100913    1.491651   -0.672812   -1.705687   -1.181676\n",
              "C    0.989625   -0.633212    1.004542   -0.246130    0.440875    0.171552\n",
              "D    1.091851   -1.361303   -0.341879   -0.989541   -1.929949    0.242268"
            ]
          },
          "metadata": {
            "tags": []
          },
          "execution_count": 33
        }
      ]
    },
    {
      "cell_type": "code",
      "metadata": {
        "id": "P_yiWRK1A55q",
        "outputId": "af697408-4de7-43f7-f174-4f562aaaf828",
        "colab": {
          "base_uri": "https://localhost:8080/",
          "height": 235
        }
      },
      "source": [
        "df2 = df.copy()\n",
        "df2[df2 > 0] = -df2\n",
        "df2"
      ],
      "execution_count": 36,
      "outputs": [
        {
          "output_type": "execute_result",
          "data": {
            "text/html": [
              "<div>\n",
              "<style scoped>\n",
              "    .dataframe tbody tr th:only-of-type {\n",
              "        vertical-align: middle;\n",
              "    }\n",
              "\n",
              "    .dataframe tbody tr th {\n",
              "        vertical-align: top;\n",
              "    }\n",
              "\n",
              "    .dataframe thead th {\n",
              "        text-align: right;\n",
              "    }\n",
              "</style>\n",
              "<table border=\"1\" class=\"dataframe\">\n",
              "  <thead>\n",
              "    <tr style=\"text-align: right;\">\n",
              "      <th></th>\n",
              "      <th>A</th>\n",
              "      <th>B</th>\n",
              "      <th>C</th>\n",
              "      <th>D</th>\n",
              "    </tr>\n",
              "  </thead>\n",
              "  <tbody>\n",
              "    <tr>\n",
              "      <th>2020-10-21</th>\n",
              "      <td>-1.419509</td>\n",
              "      <td>-0.437513</td>\n",
              "      <td>-0.989625</td>\n",
              "      <td>-1.091851</td>\n",
              "    </tr>\n",
              "    <tr>\n",
              "      <th>2020-10-22</th>\n",
              "      <td>-0.126498</td>\n",
              "      <td>-0.100913</td>\n",
              "      <td>-0.633212</td>\n",
              "      <td>-1.361303</td>\n",
              "    </tr>\n",
              "    <tr>\n",
              "      <th>2020-10-23</th>\n",
              "      <td>-0.866730</td>\n",
              "      <td>-1.491651</td>\n",
              "      <td>-1.004542</td>\n",
              "      <td>-0.341879</td>\n",
              "    </tr>\n",
              "    <tr>\n",
              "      <th>2020-10-24</th>\n",
              "      <td>-1.274104</td>\n",
              "      <td>-0.672812</td>\n",
              "      <td>-0.246130</td>\n",
              "      <td>-0.989541</td>\n",
              "    </tr>\n",
              "    <tr>\n",
              "      <th>2020-10-25</th>\n",
              "      <td>-0.264954</td>\n",
              "      <td>-1.705687</td>\n",
              "      <td>-0.440875</td>\n",
              "      <td>-1.929949</td>\n",
              "    </tr>\n",
              "    <tr>\n",
              "      <th>2020-10-26</th>\n",
              "      <td>-0.205629</td>\n",
              "      <td>-1.181676</td>\n",
              "      <td>-0.171552</td>\n",
              "      <td>-0.242268</td>\n",
              "    </tr>\n",
              "  </tbody>\n",
              "</table>\n",
              "</div>"
            ],
            "text/plain": [
              "                   A         B         C         D\n",
              "2020-10-21 -1.419509 -0.437513 -0.989625 -1.091851\n",
              "2020-10-22 -0.126498 -0.100913 -0.633212 -1.361303\n",
              "2020-10-23 -0.866730 -1.491651 -1.004542 -0.341879\n",
              "2020-10-24 -1.274104 -0.672812 -0.246130 -0.989541\n",
              "2020-10-25 -0.264954 -1.705687 -0.440875 -1.929949\n",
              "2020-10-26 -0.205629 -1.181676 -0.171552 -0.242268"
            ]
          },
          "metadata": {
            "tags": []
          },
          "execution_count": 36
        }
      ]
    },
    {
      "cell_type": "code",
      "metadata": {
        "id": "MzR10qFDBTIo",
        "outputId": "77d66d8e-1739-47b8-e2dc-77858e48a92a",
        "colab": {
          "base_uri": "https://localhost:8080/",
          "height": 235
        }
      },
      "source": [
        "df.sort_index(axis=1, ascending=False)\n",
        "df"
      ],
      "execution_count": 40,
      "outputs": [
        {
          "output_type": "execute_result",
          "data": {
            "text/html": [
              "<div>\n",
              "<style scoped>\n",
              "    .dataframe tbody tr th:only-of-type {\n",
              "        vertical-align: middle;\n",
              "    }\n",
              "\n",
              "    .dataframe tbody tr th {\n",
              "        vertical-align: top;\n",
              "    }\n",
              "\n",
              "    .dataframe thead th {\n",
              "        text-align: right;\n",
              "    }\n",
              "</style>\n",
              "<table border=\"1\" class=\"dataframe\">\n",
              "  <thead>\n",
              "    <tr style=\"text-align: right;\">\n",
              "      <th></th>\n",
              "      <th>A</th>\n",
              "      <th>B</th>\n",
              "      <th>C</th>\n",
              "      <th>D</th>\n",
              "    </tr>\n",
              "  </thead>\n",
              "  <tbody>\n",
              "    <tr>\n",
              "      <th>2020-10-21</th>\n",
              "      <td>1.419509</td>\n",
              "      <td>-0.437513</td>\n",
              "      <td>0.989625</td>\n",
              "      <td>1.091851</td>\n",
              "    </tr>\n",
              "    <tr>\n",
              "      <th>2020-10-22</th>\n",
              "      <td>-0.126498</td>\n",
              "      <td>0.100913</td>\n",
              "      <td>-0.633212</td>\n",
              "      <td>-1.361303</td>\n",
              "    </tr>\n",
              "    <tr>\n",
              "      <th>2020-10-23</th>\n",
              "      <td>0.866730</td>\n",
              "      <td>1.491651</td>\n",
              "      <td>1.004542</td>\n",
              "      <td>-0.341879</td>\n",
              "    </tr>\n",
              "    <tr>\n",
              "      <th>2020-10-24</th>\n",
              "      <td>-1.274104</td>\n",
              "      <td>-0.672812</td>\n",
              "      <td>-0.246130</td>\n",
              "      <td>-0.989541</td>\n",
              "    </tr>\n",
              "    <tr>\n",
              "      <th>2020-10-25</th>\n",
              "      <td>-0.264954</td>\n",
              "      <td>-1.705687</td>\n",
              "      <td>0.440875</td>\n",
              "      <td>-1.929949</td>\n",
              "    </tr>\n",
              "    <tr>\n",
              "      <th>2020-10-26</th>\n",
              "      <td>-0.205629</td>\n",
              "      <td>-1.181676</td>\n",
              "      <td>0.171552</td>\n",
              "      <td>0.242268</td>\n",
              "    </tr>\n",
              "  </tbody>\n",
              "</table>\n",
              "</div>"
            ],
            "text/plain": [
              "                   A         B         C         D\n",
              "2020-10-21  1.419509 -0.437513  0.989625  1.091851\n",
              "2020-10-22 -0.126498  0.100913 -0.633212 -1.361303\n",
              "2020-10-23  0.866730  1.491651  1.004542 -0.341879\n",
              "2020-10-24 -1.274104 -0.672812 -0.246130 -0.989541\n",
              "2020-10-25 -0.264954 -1.705687  0.440875 -1.929949\n",
              "2020-10-26 -0.205629 -1.181676  0.171552  0.242268"
            ]
          },
          "metadata": {
            "tags": []
          },
          "execution_count": 40
        }
      ]
    },
    {
      "cell_type": "code",
      "metadata": {
        "id": "3Y80bIybIuju",
        "outputId": "e304eb48-9189-4b35-9542-2224c1bc8935",
        "colab": {
          "base_uri": "https://localhost:8080/",
          "height": 235
        }
      },
      "source": [
        "df.sort_index(axis=0, ascending=False)\n",
        "df"
      ],
      "execution_count": 41,
      "outputs": [
        {
          "output_type": "execute_result",
          "data": {
            "text/html": [
              "<div>\n",
              "<style scoped>\n",
              "    .dataframe tbody tr th:only-of-type {\n",
              "        vertical-align: middle;\n",
              "    }\n",
              "\n",
              "    .dataframe tbody tr th {\n",
              "        vertical-align: top;\n",
              "    }\n",
              "\n",
              "    .dataframe thead th {\n",
              "        text-align: right;\n",
              "    }\n",
              "</style>\n",
              "<table border=\"1\" class=\"dataframe\">\n",
              "  <thead>\n",
              "    <tr style=\"text-align: right;\">\n",
              "      <th></th>\n",
              "      <th>A</th>\n",
              "      <th>B</th>\n",
              "      <th>C</th>\n",
              "      <th>D</th>\n",
              "    </tr>\n",
              "  </thead>\n",
              "  <tbody>\n",
              "    <tr>\n",
              "      <th>2020-10-21</th>\n",
              "      <td>1.419509</td>\n",
              "      <td>-0.437513</td>\n",
              "      <td>0.989625</td>\n",
              "      <td>1.091851</td>\n",
              "    </tr>\n",
              "    <tr>\n",
              "      <th>2020-10-22</th>\n",
              "      <td>-0.126498</td>\n",
              "      <td>0.100913</td>\n",
              "      <td>-0.633212</td>\n",
              "      <td>-1.361303</td>\n",
              "    </tr>\n",
              "    <tr>\n",
              "      <th>2020-10-23</th>\n",
              "      <td>0.866730</td>\n",
              "      <td>1.491651</td>\n",
              "      <td>1.004542</td>\n",
              "      <td>-0.341879</td>\n",
              "    </tr>\n",
              "    <tr>\n",
              "      <th>2020-10-24</th>\n",
              "      <td>-1.274104</td>\n",
              "      <td>-0.672812</td>\n",
              "      <td>-0.246130</td>\n",
              "      <td>-0.989541</td>\n",
              "    </tr>\n",
              "    <tr>\n",
              "      <th>2020-10-25</th>\n",
              "      <td>-0.264954</td>\n",
              "      <td>-1.705687</td>\n",
              "      <td>0.440875</td>\n",
              "      <td>-1.929949</td>\n",
              "    </tr>\n",
              "    <tr>\n",
              "      <th>2020-10-26</th>\n",
              "      <td>-0.205629</td>\n",
              "      <td>-1.181676</td>\n",
              "      <td>0.171552</td>\n",
              "      <td>0.242268</td>\n",
              "    </tr>\n",
              "  </tbody>\n",
              "</table>\n",
              "</div>"
            ],
            "text/plain": [
              "                   A         B         C         D\n",
              "2020-10-21  1.419509 -0.437513  0.989625  1.091851\n",
              "2020-10-22 -0.126498  0.100913 -0.633212 -1.361303\n",
              "2020-10-23  0.866730  1.491651  1.004542 -0.341879\n",
              "2020-10-24 -1.274104 -0.672812 -0.246130 -0.989541\n",
              "2020-10-25 -0.264954 -1.705687  0.440875 -1.929949\n",
              "2020-10-26 -0.205629 -1.181676  0.171552  0.242268"
            ]
          },
          "metadata": {
            "tags": []
          },
          "execution_count": 41
        }
      ]
    }
  ]
}